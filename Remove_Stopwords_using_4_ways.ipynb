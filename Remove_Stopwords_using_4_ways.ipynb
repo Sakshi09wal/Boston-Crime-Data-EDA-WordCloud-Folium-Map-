{
  "nbformat": 4,
  "nbformat_minor": 0,
  "metadata": {
    "colab": {
      "provenance": [],
      "authorship_tag": "ABX9TyNcCgl3TojULByGPnaefHbK",
      "include_colab_link": true
    },
    "kernelspec": {
      "name": "python3",
      "display_name": "Python 3"
    },
    "language_info": {
      "name": "python"
    }
  },
  "cells": [
    {
      "cell_type": "markdown",
      "metadata": {
        "id": "view-in-github",
        "colab_type": "text"
      },
      "source": [
        "<a href=\"https://colab.research.google.com/github/Sakshi09wal/NLP-on-NYC-Crime-API-Data/blob/main/Remove_Stopwords_using_4_ways.ipynb\" target=\"_parent\"><img src=\"https://colab.research.google.com/assets/colab-badge.svg\" alt=\"Open In Colab\"/></a>"
      ]
    },
    {
      "cell_type": "code",
      "source": [
        "# Removing stop words with nltk\n",
        "\n",
        "from nltk.corpus import stopwords\n",
        "from nltk.tokenize import word_tokenize\n",
        "\n",
        "nltk.download('stopwords')\n",
        "nltk.download('punkt')\n",
        "\n",
        "\n",
        "example_sent = \"\"\" i want to figure out how i can be a better data scientist\"\"\"\n",
        "\n",
        "stop_words = set(stopwords.words('english'))\n",
        "\n",
        "word_tokens = word_tokenize(example_sent)\n",
        "# converts the words in word_tokens to lower case and then checks whether\n",
        "#they are present in stop_words or not\n",
        "filtered_sentence = [w for w in word_tokens if not w.lower() in stop_words]\n",
        "#with no lower case conversion\n",
        "filtered_sentence = []\n",
        "\n",
        "for w in word_tokens:\n",
        "\tif w not in stop_words:\n",
        "\t\tfiltered_sentence.append(w)\n",
        "\n",
        "print(word_tokens)\n",
        "print(filtered_sentence)\n"
      ],
      "metadata": {
        "colab": {
          "base_uri": "https://localhost:8080/"
        },
        "id": "DplieTWI-Sqn",
        "outputId": "f46656c9-564c-43fa-97b9-177b91131ae0"
      },
      "execution_count": 19,
      "outputs": [
        {
          "output_type": "stream",
          "name": "stdout",
          "text": [
            "['i', 'want', 'to', 'figure', 'out', 'how', 'i', 'can', 'be', 'a', 'better', 'data', 'scientist']\n",
            "['want', 'figure', 'better', 'data', 'scientist']\n"
          ]
        },
        {
          "output_type": "stream",
          "name": "stderr",
          "text": [
            "[nltk_data] Downloading package stopwords to /root/nltk_data...\n",
            "[nltk_data]   Package stopwords is already up-to-date!\n",
            "[nltk_data] Downloading package punkt to /root/nltk_data...\n",
            "[nltk_data]   Package punkt is already up-to-date!\n"
          ]
        }
      ]
    },
    {
      "cell_type": "code",
      "execution_count": 20,
      "metadata": {
        "colab": {
          "base_uri": "https://localhost:8080/"
        },
        "id": "j7aLJ8uv9b0a",
        "outputId": "38b31b3a-031b-493d-8509-278975a9232b"
      },
      "outputs": [
        {
          "output_type": "stream",
          "name": "stdout",
          "text": [
            "Original Text: i want to figure out how i can be a better data scientist\n",
            "Text after Stopword Removal: want figure better data scientist\n",
            "Original Text: i want to figure out how i can be a better data scientist\n",
            "Text after Stopword Removal: want figure better data scientist\n"
          ]
        }
      ],
      "source": [
        "# Removing stop words with spacy\n",
        "import spacy\n",
        "\n",
        "# Load spaCy English model\n",
        "nlp = spacy.load(\"en_core_web_sm\")\n",
        "\n",
        "# Sample text\n",
        "text = \"i want to figure out how i can be a better data scientist\"\n",
        "\n",
        "# Process the text using spaCy\n",
        "doc = nlp(text)\n",
        "\n",
        "# Remove stopwords\n",
        "filtered_words = [token.text for token in doc if not token.is_stop]\n",
        "\n",
        "# Join the filtered words to form a clean text\n",
        "clean_text = ' '.join(filtered_words)\n",
        "\n",
        "print(\"Original Text:\", text)\n",
        "print(\"Text after Stopword Removal:\", clean_text)\n",
        "\n",
        "# Another sample text\n",
        "# new_text = \"The quick brown fox jumps over the lazy dog.\"\n",
        "new_text ='i want to figure out how i can be a better data scientist'\n",
        "\n",
        "# Tokenize the new text using NLTK\n",
        "new_words = word_tokenize(new_text)\n",
        "\n",
        "# Remove stopwords using NLTK\n",
        "new_filtered_words = [\n",
        "    word for word in new_words if word.lower() not in stopwords.words('english')]\n",
        "\n",
        "# Join the filtered words to form a clean text\n",
        "new_clean_text = ' '.join(new_filtered_words)\n",
        "\n",
        "print(\"Original Text:\", new_text)\n",
        "print(\"Text after Stopword Removal:\", new_clean_text)"
      ]
    },
    {
      "cell_type": "code",
      "source": [
        "# Removing stop words with Genism\n",
        "\n",
        "\n",
        "\n",
        "from gensim.parsing.preprocessing import remove_stopwords\n",
        "\n",
        "# Another sample text\n",
        "new_text = \"i want to figure out how i can be a better data scientist\"\n",
        "\n",
        "# Remove stopwords using Gensim\n",
        "new_filtered_text = remove_stopwords(new_text)\n",
        "\n",
        "print(\"Original Text:\", new_text)\n",
        "print(\"Text after Stopword Removal:     \", new_filtered_text)\n"
      ],
      "metadata": {
        "colab": {
          "base_uri": "https://localhost:8080/"
        },
        "id": "JY3oROZi9v5d",
        "outputId": "fb8baa23-3403-47b0-b72b-361c63efb2a3"
      },
      "execution_count": 15,
      "outputs": [
        {
          "output_type": "stream",
          "name": "stdout",
          "text": [
            "Original Text: i want to figure out how i can be a better data scientist\n",
            "Text after Stopword Removal: want figure better data scientist\n"
          ]
        }
      ]
    },
    {
      "cell_type": "code",
      "source": [
        "# Removing stop words with SkLearn\n",
        "\n",
        "\n",
        "\n",
        "from sklearn.feature_extraction.text import CountVectorizer\n",
        "from nltk.corpus import stopwords\n",
        "from nltk.tokenize import word_tokenize\n",
        "\n",
        "# Another sample text\n",
        "new_text = \"i want to figure out how i can be a better data scientist\"\n",
        "\n",
        "# Tokenize the new text using NLTK\n",
        "new_words = word_tokenize(new_text)\n",
        "\n",
        "# Remove stopwords using NLTK\n",
        "new_filtered_words = [\n",
        "    word for word in new_words if word.lower() not in stopwords.words('english')]\n",
        "\n",
        "# Join the filtered words to form a clean text\n",
        "new_clean_text = ' '.join(new_filtered_words)\n",
        "\n",
        "print(\"Original Text:  \" , new_text)\n",
        "print(\"Text after Stopword Removal:   \", new_clean_text)"
      ],
      "metadata": {
        "colab": {
          "base_uri": "https://localhost:8080/"
        },
        "id": "hKa2s7yg9xIw",
        "outputId": "663a389a-9cda-436a-f07d-90234c255c07"
      },
      "execution_count": 18,
      "outputs": [
        {
          "output_type": "stream",
          "name": "stdout",
          "text": [
            "Original Text:   i want to figure out how i can be a better data scientist\n",
            "Text after Stopword Removal:    want figure better data scientist\n"
          ]
        }
      ]
    }
  ]
}